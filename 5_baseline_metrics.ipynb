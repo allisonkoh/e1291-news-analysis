{
 "cells": [
  {
   "cell_type": "markdown",
   "metadata": {},
   "source": [
    "# Metrics for Multi-Class Baseline Models "
   ]
  },
  {
   "cell_type": "markdown",
   "metadata": {},
   "source": [
    "## Results for Baseline 1: Chance"
   ]
  },
  {
   "cell_type": "code",
   "execution_count": 2,
   "metadata": {},
   "outputs": [],
   "source": [
    "import numpy as np\n",
    "import os\n",
    "import pandas as pd\n",
    "from sklearn import metrics"
   ]
  },
  {
   "cell_type": "code",
   "execution_count": 22,
   "metadata": {},
   "outputs": [
    {
     "data": {
      "text/html": [
       "<div>\n",
       "<style scoped>\n",
       "    .dataframe tbody tr th:only-of-type {\n",
       "        vertical-align: middle;\n",
       "    }\n",
       "\n",
       "    .dataframe tbody tr th {\n",
       "        vertical-align: top;\n",
       "    }\n",
       "\n",
       "    .dataframe thead th {\n",
       "        text-align: right;\n",
       "    }\n",
       "</style>\n",
       "<table border=\"1\" class=\"dataframe\">\n",
       "  <thead>\n",
       "    <tr style=\"text-align: right;\">\n",
       "      <th></th>\n",
       "      <th>pred</th>\n",
       "      <th>actual</th>\n",
       "    </tr>\n",
       "  </thead>\n",
       "  <tbody>\n",
       "    <tr>\n",
       "      <th>0</th>\n",
       "      <td>right</td>\n",
       "      <td>center</td>\n",
       "    </tr>\n",
       "    <tr>\n",
       "      <th>1</th>\n",
       "      <td>left</td>\n",
       "      <td>center</td>\n",
       "    </tr>\n",
       "    <tr>\n",
       "      <th>2</th>\n",
       "      <td>center</td>\n",
       "      <td>center</td>\n",
       "    </tr>\n",
       "    <tr>\n",
       "      <th>3</th>\n",
       "      <td>leanright</td>\n",
       "      <td>center</td>\n",
       "    </tr>\n",
       "    <tr>\n",
       "      <th>4</th>\n",
       "      <td>center</td>\n",
       "      <td>center</td>\n",
       "    </tr>\n",
       "  </tbody>\n",
       "</table>\n",
       "</div>"
      ],
      "text/plain": [
       "        pred  actual\n",
       "0      right  center\n",
       "1       left  center\n",
       "2     center  center\n",
       "3  leanright  center\n",
       "4     center  center"
      ]
     },
     "execution_count": 22,
     "metadata": {},
     "output_type": "execute_result"
    }
   ],
   "source": [
    "chance_df = pd.read_csv('chance_df.csv')\n",
    "chance_df.head()"
   ]
  },
  {
   "cell_type": "code",
   "execution_count": 25,
   "metadata": {},
   "outputs": [],
   "source": [
    "y_pred = chance_df[\"pred\"]\n",
    "y_actual = chance_df[\"actual\"]"
   ]
  },
  {
   "cell_type": "code",
   "execution_count": 27,
   "metadata": {},
   "outputs": [
    {
     "name": "stdout",
     "output_type": "stream",
     "text": [
      "[[375 426 402 428 412]\n",
      " [418 397 387 395 412]\n",
      " [400 399 410 413 385]\n",
      " [406 416 381 393 380]\n",
      " [401 362 420 371 411]]\n",
      "              precision    recall  f1-score   support\n",
      "\n",
      "      center     0.1875    0.1836    0.1855      2043\n",
      "    leanleft     0.1985    0.1976    0.1981      2009\n",
      "   leanright     0.2050    0.2043    0.2046      2007\n",
      "        left     0.1965    0.1989    0.1977      1976\n",
      "       right     0.2055    0.2092    0.2073      1965\n",
      "\n",
      "   micro avg     0.1986    0.1986    0.1986     10000\n",
      "   macro avg     0.1986    0.1987    0.1986     10000\n",
      "weighted avg     0.1985    0.1986    0.1986     10000\n",
      "\n"
     ]
    }
   ],
   "source": [
    "# printing confusion matrix \n",
    "print(metrics.confusion_matrix(y_actual,y_pred))\n",
    "\n",
    "# printing precision and recall, among other metrics \n",
    "print(metrics.classification_report(y_actual,y_pred,digits=4))"
   ]
  },
  {
   "cell_type": "markdown",
   "metadata": {},
   "source": [
    "## Results for Baseline 2: Logistic Regression"
   ]
  },
  {
   "cell_type": "code",
   "execution_count": 12,
   "metadata": {
    "scrolled": true
   },
   "outputs": [
    {
     "data": {
      "text/html": [
       "<div>\n",
       "<style scoped>\n",
       "    .dataframe tbody tr th:only-of-type {\n",
       "        vertical-align: middle;\n",
       "    }\n",
       "\n",
       "    .dataframe tbody tr th {\n",
       "        vertical-align: top;\n",
       "    }\n",
       "\n",
       "    .dataframe thead th {\n",
       "        text-align: right;\n",
       "    }\n",
       "</style>\n",
       "<table border=\"1\" class=\"dataframe\">\n",
       "  <thead>\n",
       "    <tr style=\"text-align: right;\">\n",
       "      <th></th>\n",
       "      <th>Unnamed: 0</th>\n",
       "      <th>predicted_class</th>\n",
       "      <th>actual_class</th>\n",
       "    </tr>\n",
       "  </thead>\n",
       "  <tbody>\n",
       "    <tr>\n",
       "      <td>0</td>\n",
       "      <td>1</td>\n",
       "      <td>right</td>\n",
       "      <td>center</td>\n",
       "    </tr>\n",
       "    <tr>\n",
       "      <td>1</td>\n",
       "      <td>2</td>\n",
       "      <td>center</td>\n",
       "      <td>center</td>\n",
       "    </tr>\n",
       "    <tr>\n",
       "      <td>2</td>\n",
       "      <td>3</td>\n",
       "      <td>right</td>\n",
       "      <td>center</td>\n",
       "    </tr>\n",
       "    <tr>\n",
       "      <td>3</td>\n",
       "      <td>4</td>\n",
       "      <td>leanright</td>\n",
       "      <td>center</td>\n",
       "    </tr>\n",
       "    <tr>\n",
       "      <td>4</td>\n",
       "      <td>5</td>\n",
       "      <td>center</td>\n",
       "      <td>center</td>\n",
       "    </tr>\n",
       "  </tbody>\n",
       "</table>\n",
       "</div>"
      ],
      "text/plain": [
       "   Unnamed: 0 predicted_class actual_class\n",
       "0           1           right       center\n",
       "1           2          center       center\n",
       "2           3           right       center\n",
       "3           4       leanright       center\n",
       "4           5          center       center"
      ]
     },
     "execution_count": 12,
     "metadata": {},
     "output_type": "execute_result"
    }
   ],
   "source": [
    "# load df for baseline 2: logistic regression/NB classifier \n",
    "logit_df = pd.read_csv('pred_logit.csv')\n",
    "logit_df.head()"
   ]
  },
  {
   "cell_type": "code",
   "execution_count": 14,
   "metadata": {},
   "outputs": [],
   "source": [
    "y_pred1 = logit_df[\"predicted_class\"]\n",
    "y_actual1 = logit_df[\"actual_class\"]"
   ]
  },
  {
   "cell_type": "code",
   "execution_count": 15,
   "metadata": {},
   "outputs": [
    {
     "name": "stdout",
     "output_type": "stream",
     "text": [
      "[[ 994  239  238  345  227]\n",
      " [ 293  622  463  397  234]\n",
      " [ 296  333  874  268  236]\n",
      " [ 174  171  226 1167  238]\n",
      " [ 162  166  197  268 1172]]\n",
      "              precision    recall  f1-score   support\n",
      "\n",
      "      center     0.5180    0.4865    0.5018      2043\n",
      "    leanleft     0.4063    0.3096    0.3514      2009\n",
      "   leanright     0.4374    0.4355    0.4365      2007\n",
      "        left     0.4773    0.5906    0.5279      1976\n",
      "       right     0.5562    0.5964    0.5756      1965\n",
      "\n",
      "   micro avg     0.4829    0.4829    0.4829     10000\n",
      "   macro avg     0.4790    0.4837    0.4786     10000\n",
      "weighted avg     0.4789    0.4829    0.4781     10000\n",
      "\n"
     ]
    }
   ],
   "source": [
    "print(metrics.confusion_matrix(y_actual1,y_pred1))\n",
    "print(metrics.classification_report(y_actual1,y_pred1,digits=4))"
   ]
  },
  {
   "cell_type": "code",
   "execution_count": null,
   "metadata": {},
   "outputs": [],
   "source": []
  }
 ],
 "metadata": {
  "kernelspec": {
   "display_name": "Python 3",
   "language": "python",
   "name": "python3"
  },
  "language_info": {
   "codemirror_mode": {
    "name": "ipython",
    "version": 3
   },
   "file_extension": ".py",
   "mimetype": "text/x-python",
   "name": "python",
   "nbconvert_exporter": "python",
   "pygments_lexer": "ipython3",
   "version": "3.7.3"
  }
 },
 "nbformat": 4,
 "nbformat_minor": 2
}
