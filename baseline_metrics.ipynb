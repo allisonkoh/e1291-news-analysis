{
 "cells": [
  {
   "cell_type": "markdown",
   "metadata": {},
   "source": [
    "# Metrics for Multi-Class Baseline Models "
   ]
  },
  {
   "cell_type": "markdown",
   "metadata": {},
   "source": [
    "## Results for Baseline 1: Chance"
   ]
  },
  {
   "cell_type": "code",
   "execution_count": 2,
   "metadata": {},
   "outputs": [],
   "source": [
    "import numpy as np\n",
    "import os\n",
    "import pandas as pd\n",
    "import seaborn as sns\n",
    "from sklearn import metrics\n",
    "\n",
    "from matplotlib.ticker import FuncFormatter\n",
    "import matplotlib.pyplot as plt"
   ]
  },
  {
   "cell_type": "code",
   "execution_count": null,
   "metadata": {},
   "outputs": [],
   "source": [
    "chance_df = pd.read_csv('chance_df.csv')\n",
    "chance_df.head()"
   ]
  },
  {
   "cell_type": "code",
   "execution_count": 25,
   "metadata": {},
   "outputs": [],
   "source": [
    "y_pred = chance_df[\"pred\"]\n",
    "y_actual = chance_df[\"actual\"]"
   ]
  },
  {
   "cell_type": "code",
   "execution_count": 27,
   "metadata": {},
   "outputs": [
    {
     "name": "stdout",
     "output_type": "stream",
     "text": [
      "[[375 426 402 428 412]\n",
      " [418 397 387 395 412]\n",
      " [400 399 410 413 385]\n",
      " [406 416 381 393 380]\n",
      " [401 362 420 371 411]]\n",
      "              precision    recall  f1-score   support\n",
      "\n",
      "      center     0.1875    0.1836    0.1855      2043\n",
      "    leanleft     0.1985    0.1976    0.1981      2009\n",
      "   leanright     0.2050    0.2043    0.2046      2007\n",
      "        left     0.1965    0.1989    0.1977      1976\n",
      "       right     0.2055    0.2092    0.2073      1965\n",
      "\n",
      "   micro avg     0.1986    0.1986    0.1986     10000\n",
      "   macro avg     0.1986    0.1987    0.1986     10000\n",
      "weighted avg     0.1985    0.1986    0.1986     10000\n",
      "\n"
     ]
    }
   ],
   "source": [
    "# printing confusion matrix \n",
    "print(metrics.confusion_matrix(y_actual,y_pred))\n",
    "\n",
    "# printing precision and recall, among other metrics \n",
    "print(metrics.classification_report(y_actual,y_pred,digits=4))"
   ]
  },
  {
   "cell_type": "markdown",
   "metadata": {},
   "source": [
    "## Results for Baseline 2: Logistic Regression"
   ]
  },
  {
   "cell_type": "code",
   "execution_count": 12,
   "metadata": {
    "scrolled": true
   },
   "outputs": [
    {
     "data": {
      "text/html": [
       "<div>\n",
       "<style scoped>\n",
       "    .dataframe tbody tr th:only-of-type {\n",
       "        vertical-align: middle;\n",
       "    }\n",
       "\n",
       "    .dataframe tbody tr th {\n",
       "        vertical-align: top;\n",
       "    }\n",
       "\n",
       "    .dataframe thead th {\n",
       "        text-align: right;\n",
       "    }\n",
       "</style>\n",
       "<table border=\"1\" class=\"dataframe\">\n",
       "  <thead>\n",
       "    <tr style=\"text-align: right;\">\n",
       "      <th></th>\n",
       "      <th>Unnamed: 0</th>\n",
       "      <th>predicted_class</th>\n",
       "      <th>actual_class</th>\n",
       "    </tr>\n",
       "  </thead>\n",
       "  <tbody>\n",
       "    <tr>\n",
       "      <td>0</td>\n",
       "      <td>1</td>\n",
       "      <td>right</td>\n",
       "      <td>center</td>\n",
       "    </tr>\n",
       "    <tr>\n",
       "      <td>1</td>\n",
       "      <td>2</td>\n",
       "      <td>center</td>\n",
       "      <td>center</td>\n",
       "    </tr>\n",
       "    <tr>\n",
       "      <td>2</td>\n",
       "      <td>3</td>\n",
       "      <td>right</td>\n",
       "      <td>center</td>\n",
       "    </tr>\n",
       "    <tr>\n",
       "      <td>3</td>\n",
       "      <td>4</td>\n",
       "      <td>leanright</td>\n",
       "      <td>center</td>\n",
       "    </tr>\n",
       "    <tr>\n",
       "      <td>4</td>\n",
       "      <td>5</td>\n",
       "      <td>center</td>\n",
       "      <td>center</td>\n",
       "    </tr>\n",
       "  </tbody>\n",
       "</table>\n",
       "</div>"
      ],
      "text/plain": [
       "   Unnamed: 0 predicted_class actual_class\n",
       "0           1           right       center\n",
       "1           2          center       center\n",
       "2           3           right       center\n",
       "3           4       leanright       center\n",
       "4           5          center       center"
      ]
     },
     "execution_count": 12,
     "metadata": {},
     "output_type": "execute_result"
    }
   ],
   "source": [
    "# load df for baseline 2: logistic regression/NB classifier \n",
    "logit_df = pd.read_csv('pred_logit.csv')\n",
    "logit_df.head()"
   ]
  },
  {
   "cell_type": "code",
   "execution_count": 14,
   "metadata": {},
   "outputs": [],
   "source": [
    "y_pred1 = logit_df[\"predicted_class\"]\n",
    "y_actual1 = logit_df[\"actual_class\"]"
   ]
  },
  {
   "cell_type": "code",
   "execution_count": 15,
   "metadata": {},
   "outputs": [
    {
     "name": "stdout",
     "output_type": "stream",
     "text": [
      "[[ 994  239  238  345  227]\n",
      " [ 293  622  463  397  234]\n",
      " [ 296  333  874  268  236]\n",
      " [ 174  171  226 1167  238]\n",
      " [ 162  166  197  268 1172]]\n",
      "              precision    recall  f1-score   support\n",
      "\n",
      "      center     0.5180    0.4865    0.5018      2043\n",
      "    leanleft     0.4063    0.3096    0.3514      2009\n",
      "   leanright     0.4374    0.4355    0.4365      2007\n",
      "        left     0.4773    0.5906    0.5279      1976\n",
      "       right     0.5562    0.5964    0.5756      1965\n",
      "\n",
      "   micro avg     0.4829    0.4829    0.4829     10000\n",
      "   macro avg     0.4790    0.4837    0.4786     10000\n",
      "weighted avg     0.4789    0.4829    0.4781     10000\n",
      "\n"
     ]
    }
   ],
   "source": [
    "print(metrics.confusion_matrix(y_actual1,y_pred1))\n",
    "print(metrics.classification_report(y_actual1,y_pred1,digits=4))"
   ]
  },
  {
   "cell_type": "markdown",
   "metadata": {},
   "source": [
    "# Naive Bayes"
   ]
  },
  {
   "cell_type": "code",
   "execution_count": 54,
   "metadata": {},
   "outputs": [
    {
     "data": {
      "text/html": [
       "<div>\n",
       "<style scoped>\n",
       "    .dataframe tbody tr th:only-of-type {\n",
       "        vertical-align: middle;\n",
       "    }\n",
       "\n",
       "    .dataframe tbody tr th {\n",
       "        vertical-align: top;\n",
       "    }\n",
       "\n",
       "    .dataframe thead th {\n",
       "        text-align: right;\n",
       "    }\n",
       "</style>\n",
       "<table border=\"1\" class=\"dataframe\">\n",
       "  <thead>\n",
       "    <tr style=\"text-align: right;\">\n",
       "      <th></th>\n",
       "      <th>Unnamed: 0</th>\n",
       "      <th>V1</th>\n",
       "      <th>V2</th>\n",
       "    </tr>\n",
       "  </thead>\n",
       "  <tbody>\n",
       "    <tr>\n",
       "      <td>0</td>\n",
       "      <td>1</td>\n",
       "      <td>left</td>\n",
       "      <td>right</td>\n",
       "    </tr>\n",
       "    <tr>\n",
       "      <td>1</td>\n",
       "      <td>2</td>\n",
       "      <td>left</td>\n",
       "      <td>leanright</td>\n",
       "    </tr>\n",
       "    <tr>\n",
       "      <td>2</td>\n",
       "      <td>3</td>\n",
       "      <td>left</td>\n",
       "      <td>left</td>\n",
       "    </tr>\n",
       "    <tr>\n",
       "      <td>3</td>\n",
       "      <td>4</td>\n",
       "      <td>left</td>\n",
       "      <td>left</td>\n",
       "    </tr>\n",
       "    <tr>\n",
       "      <td>4</td>\n",
       "      <td>5</td>\n",
       "      <td>left</td>\n",
       "      <td>left</td>\n",
       "    </tr>\n",
       "  </tbody>\n",
       "</table>\n",
       "</div>"
      ],
      "text/plain": [
       "   Unnamed: 0    V1         V2\n",
       "0           1  left      right\n",
       "1           2  left  leanright\n",
       "2           3  left       left\n",
       "3           4  left       left\n",
       "4           5  left       left"
      ]
     },
     "execution_count": 54,
     "metadata": {},
     "output_type": "execute_result"
    }
   ],
   "source": [
    "# Headlines \n",
    "nb_hl_df = pd.read_csv('/Users/allisonwun-huikoh/Documents/GitHub/e1291-news-analysis/results/1_nb_hl.csv')\n",
    "nb_hl_df.head()\n",
    "# RSS Descriptions \n",
    "nb_dsc_df = pd.read_csv('/Users/allisonwun-huikoh/Documents/GitHub/e1291-news-analysis/results/1_nb_dsc.csv')\n",
    "nb_dsc_df.head()\n",
    "# Full Text \n",
    "nb_txt_df = pd.read_csv('/Users/allisonwun-huikoh/Documents/GitHub/e1291-news-analysis/results/1_nb_txt.csv')\n",
    "nb_txt_df.head()"
   ]
  },
  {
   "cell_type": "code",
   "execution_count": 18,
   "metadata": {},
   "outputs": [
    {
     "name": "stdout",
     "output_type": "stream",
     "text": [
      "[[891 248 271 328 251]\n",
      " [356 539 448 400 279]\n",
      " [360 315 816 270 272]\n",
      " [227 222 253 995 280]\n",
      " [272 211 244 336 916]]\n",
      "              precision    recall  f1-score   support\n",
      "\n",
      "      center     0.4231    0.4480    0.4352      1989\n",
      "    leanleft     0.3511    0.2666    0.3031      2022\n",
      "   leanright     0.4016    0.4014    0.4015      2033\n",
      "        left     0.4272    0.5033    0.4621      1977\n",
      "       right     0.4585    0.4629    0.4606      1979\n",
      "\n",
      "   micro avg     0.4157    0.4157    0.4157     10000\n",
      "   macro avg     0.4123    0.4164    0.4125     10000\n",
      "weighted avg     0.4120    0.4157    0.4120     10000\n",
      "\n"
     ]
    }
   ],
   "source": [
    "# HL \n",
    "y_pred2 = nb_hl_df[\"V2\"]\n",
    "y_actual2 = nb_hl_df[\"V1\"]\n",
    "print(metrics.confusion_matrix(y_actual2,y_pred2))\n",
    "print(metrics.classification_report(y_actual2,y_pred2,digits=4))"
   ]
  },
  {
   "cell_type": "code",
   "execution_count": 55,
   "metadata": {},
   "outputs": [
    {
     "name": "stdout",
     "output_type": "stream",
     "text": [
      "[[ 911  292  208  326  252]\n",
      " [ 274  657  398  473  220]\n",
      " [ 353  388  735  309  248]\n",
      " [ 203  247  244 1062  221]\n",
      " [ 232  241  246  399  861]]\n",
      "              precision    recall  f1-score   support\n",
      "\n",
      "      center     0.4617    0.4580    0.4599      1989\n",
      "    leanleft     0.3600    0.3249    0.3416      2022\n",
      "   leanright     0.4014    0.3615    0.3804      2033\n",
      "        left     0.4134    0.5372    0.4672      1977\n",
      "       right     0.4778    0.4351    0.4554      1979\n",
      "\n",
      "   micro avg     0.4226    0.4226    0.4226     10000\n",
      "   macro avg     0.4229    0.4233    0.4209     10000\n",
      "weighted avg     0.4225    0.4226    0.4204     10000\n",
      "\n"
     ]
    }
   ],
   "source": [
    "# RSS\n",
    "y_pred3 = nb_dsc_df[\"V2\"]\n",
    "y_actual3 = nb_dsc_df[\"V1\"]\n",
    "print(metrics.confusion_matrix(y_actual3,y_pred3))\n",
    "print(metrics.classification_report(y_actual3,y_pred3,digits=4))"
   ]
  },
  {
   "cell_type": "code",
   "execution_count": 60,
   "metadata": {},
   "outputs": [
    {
     "name": "stdout",
     "output_type": "stream",
     "text": [
      "[[1048  189  196  409  147]\n",
      " [ 269  691  395  440  227]\n",
      " [ 298  271  979  269  216]\n",
      " [ 131  171  303 1184  188]\n",
      " [ 139  115  208  339 1178]]\n",
      "              precision    recall  f1-score   support\n",
      "\n",
      "      center     0.5560    0.5269    0.5410      1989\n",
      "    leanleft     0.4809    0.3417    0.3995      2022\n",
      "   leanright     0.4704    0.4816    0.4759      2033\n",
      "        left     0.4483    0.5989    0.5128      1977\n",
      "       right     0.6022    0.5953    0.5987      1979\n",
      "\n",
      "   micro avg     0.5080    0.5080    0.5080     10000\n",
      "   macro avg     0.5116    0.5089    0.5056     10000\n",
      "weighted avg     0.5113    0.5080    0.5050     10000\n",
      "\n"
     ]
    }
   ],
   "source": [
    "# Full text \n",
    "y_pred4 = nb_txt_df[\"V2\"]\n",
    "y_actual4 = nb_txt_df[\"V1\"]\n",
    "print(metrics.confusion_matrix(y_actual4,y_pred4))\n",
    "print(metrics.classification_report(y_actual4,y_pred4,digits=4))"
   ]
  },
  {
   "cell_type": "markdown",
   "metadata": {},
   "source": [
    "# Logistic Regression"
   ]
  },
  {
   "cell_type": "code",
   "execution_count": 3,
   "metadata": {},
   "outputs": [
    {
     "data": {
      "text/html": [
       "<div>\n",
       "<style scoped>\n",
       "    .dataframe tbody tr th:only-of-type {\n",
       "        vertical-align: middle;\n",
       "    }\n",
       "\n",
       "    .dataframe tbody tr th {\n",
       "        vertical-align: top;\n",
       "    }\n",
       "\n",
       "    .dataframe thead th {\n",
       "        text-align: right;\n",
       "    }\n",
       "</style>\n",
       "<table border=\"1\" class=\"dataframe\">\n",
       "  <thead>\n",
       "    <tr style=\"text-align: right;\">\n",
       "      <th></th>\n",
       "      <th>Unnamed: 0</th>\n",
       "      <th>V1</th>\n",
       "      <th>V2</th>\n",
       "    </tr>\n",
       "  </thead>\n",
       "  <tbody>\n",
       "    <tr>\n",
       "      <td>0</td>\n",
       "      <td>1</td>\n",
       "      <td>left</td>\n",
       "      <td>right</td>\n",
       "    </tr>\n",
       "    <tr>\n",
       "      <td>1</td>\n",
       "      <td>2</td>\n",
       "      <td>left</td>\n",
       "      <td>leanright</td>\n",
       "    </tr>\n",
       "    <tr>\n",
       "      <td>2</td>\n",
       "      <td>3</td>\n",
       "      <td>left</td>\n",
       "      <td>left</td>\n",
       "    </tr>\n",
       "    <tr>\n",
       "      <td>3</td>\n",
       "      <td>4</td>\n",
       "      <td>left</td>\n",
       "      <td>left</td>\n",
       "    </tr>\n",
       "    <tr>\n",
       "      <td>4</td>\n",
       "      <td>5</td>\n",
       "      <td>left</td>\n",
       "      <td>left</td>\n",
       "    </tr>\n",
       "  </tbody>\n",
       "</table>\n",
       "</div>"
      ],
      "text/plain": [
       "   Unnamed: 0    V1         V2\n",
       "0           1  left      right\n",
       "1           2  left  leanright\n",
       "2           3  left       left\n",
       "3           4  left       left\n",
       "4           5  left       left"
      ]
     },
     "execution_count": 3,
     "metadata": {},
     "output_type": "execute_result"
    }
   ],
   "source": [
    "# Headlines \n",
    "lr_hl_df = pd.read_csv('/Users/allisonwun-huikoh/Documents/GitHub/e1291-news-analysis/results/2_lr_hl.csv')\n",
    "lr_hl_df.head()\n",
    "# RSS Descriptions \n",
    "lr_dsc_df = pd.read_csv('/Users/allisonwun-huikoh/Documents/GitHub/e1291-news-analysis/results/2_lr_dsc.csv')\n",
    "lr_dsc_df.head()\n",
    "# Full Text \n",
    "lr_txt_df = pd.read_csv('/Users/allisonwun-huikoh/Documents/GitHub/e1291-news-analysis/results/2_lr_txt.csv')\n",
    "lr_txt_df.head()"
   ]
  },
  {
   "cell_type": "code",
   "execution_count": 7,
   "metadata": {},
   "outputs": [
    {
     "name": "stdout",
     "output_type": "stream",
     "text": [
      "[[907 385 237 217 243]\n",
      " [325 679 408 312 298]\n",
      " [324 420 790 205 294]\n",
      " [230 293 236 935 283]\n",
      " [233 288 235 268 955]]\n",
      "              precision    recall  f1-score   support\n",
      "\n",
      "      center     0.4492    0.4560    0.4526      1989\n",
      "    leanleft     0.3288    0.3358    0.3323      2022\n",
      "   leanright     0.4145    0.3886    0.4011      2033\n",
      "        left     0.4827    0.4729    0.4778      1977\n",
      "       right     0.4607    0.4826    0.4714      1979\n",
      "\n",
      "   micro avg     0.4266    0.4266    0.4266     10000\n",
      "   macro avg     0.4272    0.4272    0.4270     10000\n",
      "weighted avg     0.4267    0.4266    0.4265     10000\n",
      "\n"
     ]
    }
   ],
   "source": [
    "y_pred5 = lr_hl_df[\"V2\"]\n",
    "y_actual5 = lr_hl_df[\"V1\"]\n",
    "print(metrics.confusion_matrix(y_actual5,y_pred5))\n",
    "print(metrics.classification_report(y_actual5,y_pred5,digits=4))"
   ]
  },
  {
   "cell_type": "code",
   "execution_count": null,
   "metadata": {},
   "outputs": [],
   "source": []
  },
  {
   "cell_type": "code",
   "execution_count": 56,
   "metadata": {},
   "outputs": [
    {
     "name": "stdout",
     "output_type": "stream",
     "text": [
      "[[ 943  267  240  259  280]\n",
      " [ 269  584  384  482  303]\n",
      " [ 318  334  788  276  317]\n",
      " [ 186  196  180 1082  333]\n",
      " [ 192  177  187  307 1116]]\n",
      "              precision    recall  f1-score   support\n",
      "\n",
      "      center     0.4942    0.4741    0.4840      1989\n",
      "    leanleft     0.3748    0.2888    0.3263      2022\n",
      "   leanright     0.4429    0.3876    0.4134      2033\n",
      "        left     0.4497    0.5473    0.4937      1977\n",
      "       right     0.4751    0.5639    0.5157      1979\n",
      "\n",
      "   micro avg     0.4513    0.4513    0.4513     10000\n",
      "   macro avg     0.4474    0.4524    0.4466     10000\n",
      "weighted avg     0.4471    0.4513    0.4459     10000\n",
      "\n"
     ]
    }
   ],
   "source": [
    "y_pred6 = lr_dsc_df[\"V2\"]\n",
    "y_actual6 = lr_dsc_df[\"V1\"]\n",
    "print(metrics.confusion_matrix(y_actual6,y_pred6))\n",
    "print(metrics.classification_report(y_actual6,y_pred6,digits=4))"
   ]
  },
  {
   "cell_type": "code",
   "execution_count": 61,
   "metadata": {},
   "outputs": [
    {
     "name": "stdout",
     "output_type": "stream",
     "text": [
      "[[1266  178  344  130   71]\n",
      " [ 228  889  538  274   93]\n",
      " [ 118  224 1436  127  128]\n",
      " [  92  168  412 1178  127]\n",
      " [  77   96  439  135 1232]]\n",
      "              precision    recall  f1-score   support\n",
      "\n",
      "      center     0.7108    0.6365    0.6716      1989\n",
      "    leanleft     0.5717    0.4397    0.4971      2022\n",
      "   leanright     0.4531    0.7063    0.5521      2033\n",
      "        left     0.6388    0.5959    0.6166      1977\n",
      "       right     0.7462    0.6225    0.6788      1979\n",
      "\n",
      "   micro avg     0.6001    0.6001    0.6001     10000\n",
      "   macro avg     0.6241    0.6002    0.6032     10000\n",
      "weighted avg     0.6231    0.6001    0.6026     10000\n",
      "\n"
     ]
    }
   ],
   "source": [
    "y_pred7 = lr_txt_df[\"V2\"]\n",
    "y_actual7 = lr_txt_df[\"V1\"]\n",
    "print(metrics.confusion_matrix(y_actual7,y_pred7))\n",
    "print(metrics.classification_report(y_actual7,y_pred7,digits=4))"
   ]
  },
  {
   "cell_type": "code",
   "execution_count": 10,
   "metadata": {},
   "outputs": [
    {
     "name": "stdout",
     "output_type": "stream",
     "text": [
      "[[1266  178  344  130   71]\n",
      " [ 228  889  538  274   93]\n",
      " [ 118  224 1436  127  128]\n",
      " [  92  168  412 1178  127]\n",
      " [  77   96  439  135 1232]]\n",
      "              precision    recall  f1-score   support\n",
      "\n",
      "      center     0.7108    0.6365    0.6716      1989\n",
      "    leanleft     0.5717    0.4397    0.4971      2022\n",
      "   leanright     0.4531    0.7063    0.5521      2033\n",
      "        left     0.6388    0.5959    0.6166      1977\n",
      "       right     0.7462    0.6225    0.6788      1979\n",
      "\n",
      "   micro avg     0.6001    0.6001    0.6001     10000\n",
      "   macro avg     0.6241    0.6002    0.6032     10000\n",
      "weighted avg     0.6231    0.6001    0.6026     10000\n",
      "\n"
     ]
    }
   ],
   "source": [
    "y_pred8 = lr_txt_df[\"V2\"]\n",
    "y_actual8 = lr_txt_df[\"V1\"]\n",
    "print(metrics.confusion_matrix(y_actual8,y_pred8))\n",
    "print(metrics.classification_report(y_actual8,y_pred8,digits=4))"
   ]
  },
  {
   "cell_type": "markdown",
   "metadata": {},
   "source": [
    "# Logistic Regression with TF-IDF "
   ]
  },
  {
   "cell_type": "code",
   "execution_count": 15,
   "metadata": {},
   "outputs": [
    {
     "data": {
      "text/html": [
       "<div>\n",
       "<style scoped>\n",
       "    .dataframe tbody tr th:only-of-type {\n",
       "        vertical-align: middle;\n",
       "    }\n",
       "\n",
       "    .dataframe tbody tr th {\n",
       "        vertical-align: top;\n",
       "    }\n",
       "\n",
       "    .dataframe thead th {\n",
       "        text-align: right;\n",
       "    }\n",
       "</style>\n",
       "<table border=\"1\" class=\"dataframe\">\n",
       "  <thead>\n",
       "    <tr style=\"text-align: right;\">\n",
       "      <th></th>\n",
       "      <th>Unnamed: 0</th>\n",
       "      <th>V1</th>\n",
       "      <th>V2</th>\n",
       "    </tr>\n",
       "  </thead>\n",
       "  <tbody>\n",
       "    <tr>\n",
       "      <td>0</td>\n",
       "      <td>1</td>\n",
       "      <td>left</td>\n",
       "      <td>leanleft</td>\n",
       "    </tr>\n",
       "    <tr>\n",
       "      <td>1</td>\n",
       "      <td>2</td>\n",
       "      <td>left</td>\n",
       "      <td>leanright</td>\n",
       "    </tr>\n",
       "    <tr>\n",
       "      <td>2</td>\n",
       "      <td>3</td>\n",
       "      <td>left</td>\n",
       "      <td>center</td>\n",
       "    </tr>\n",
       "    <tr>\n",
       "      <td>3</td>\n",
       "      <td>4</td>\n",
       "      <td>left</td>\n",
       "      <td>left</td>\n",
       "    </tr>\n",
       "    <tr>\n",
       "      <td>4</td>\n",
       "      <td>5</td>\n",
       "      <td>left</td>\n",
       "      <td>left</td>\n",
       "    </tr>\n",
       "  </tbody>\n",
       "</table>\n",
       "</div>"
      ],
      "text/plain": [
       "   Unnamed: 0    V1         V2\n",
       "0           1  left   leanleft\n",
       "1           2  left  leanright\n",
       "2           3  left     center\n",
       "3           4  left       left\n",
       "4           5  left       left"
      ]
     },
     "execution_count": 15,
     "metadata": {},
     "output_type": "execute_result"
    }
   ],
   "source": [
    "# Headlines \n",
    "lr_tfidf_hl_df = pd.read_csv('/Users/allisonwun-huikoh/Documents/GitHub/e1291-news-analysis/results/3_lr_tfidf_hl.csv')\n",
    "lr_tfidf_hl_df.head()\n",
    "# RSS Descriptions \n",
    "lr_tfidf_dsc_df = pd.read_csv('/Users/allisonwun-huikoh/Documents/GitHub/e1291-news-analysis/results/3_lr_tfidf_dsc.csv')\n",
    "lr_tfidf_dsc_df.head()\n",
    "# Full Text \n",
    "lr_tfidf_txt_df = pd.read_csv('/Users/allisonwun-huikoh/Documents/GitHub/e1291-news-analysis/results/3_lr_tfidf_txt.csv')\n",
    "lr_tfidf_hl_df.head()"
   ]
  },
  {
   "cell_type": "code",
   "execution_count": 40,
   "metadata": {},
   "outputs": [
    {
     "name": "stdout",
     "output_type": "stream",
     "text": [
      "[[914 374 242 217 242]\n",
      " [334 668 412 314 294]\n",
      " [326 414 793 202 298]\n",
      " [232 287 240 938 280]\n",
      " [229 286 239 273 952]]\n",
      "              precision    recall  f1-score   support\n",
      "\n",
      "      center     0.4491    0.4595    0.4543      1989\n",
      "    leanleft     0.3292    0.3304    0.3298      2022\n",
      "   leanright     0.4117    0.3901    0.4006      2033\n",
      "        left     0.4825    0.4745    0.4784      1977\n",
      "       right     0.4608    0.4811    0.4707      1979\n",
      "\n",
      "   micro avg     0.4265    0.4265    0.4265     10000\n",
      "   macro avg     0.4267    0.4271    0.4268     10000\n",
      "weighted avg     0.4262    0.4265    0.4262     10000\n",
      "\n"
     ]
    }
   ],
   "source": [
    "y_pred9 = lr_tfidf_hl_df[\"V2\"]\n",
    "y_actual9 = lr_tfidf_hl_df[\"V1\"]\n",
    "print(metrics.confusion_matrix(y_actual9,y_pred9))\n",
    "print(metrics.classification_report(y_actual9,y_pred9,digits=4))"
   ]
  },
  {
   "cell_type": "code",
   "execution_count": 57,
   "metadata": {},
   "outputs": [
    {
     "name": "stdout",
     "output_type": "stream",
     "text": [
      "[[ 962  264  228  255  280]\n",
      " [ 274  588  380  478  302]\n",
      " [ 316  332  791  275  319]\n",
      " [ 190  190  179 1081  337]\n",
      " [ 192  181  189  301 1116]]\n",
      "              precision    recall  f1-score   support\n",
      "\n",
      "      center     0.4974    0.4837    0.4904      1989\n",
      "    leanleft     0.3781    0.2908    0.3288      2022\n",
      "   leanright     0.4477    0.3891    0.4163      2033\n",
      "        left     0.4523    0.5468    0.4951      1977\n",
      "       right     0.4741    0.5639    0.5151      1979\n",
      "\n",
      "   micro avg     0.4538    0.4538    0.4538     10000\n",
      "   macro avg     0.4499    0.4549    0.4491     10000\n",
      "weighted avg     0.4496    0.4538    0.4485     10000\n",
      "\n"
     ]
    }
   ],
   "source": [
    "y_pred10 = lr_tfidf_dsc_df[\"V2\"]\n",
    "y_actual10 = lr_tfidf_dsc_df[\"V1\"]\n",
    "print(metrics.confusion_matrix(y_actual10,y_pred10))\n",
    "print(metrics.classification_report(y_actual10,y_pred10,digits=4))"
   ]
  },
  {
   "cell_type": "code",
   "execution_count": 62,
   "metadata": {},
   "outputs": [
    {
     "name": "stdout",
     "output_type": "stream",
     "text": [
      "[[1230   93  541   56   69]\n",
      " [ 233  651  808  225  105]\n",
      " [  92   98 1669   57  117]\n",
      " [  90   94  665  978  150]\n",
      " [  67   37  592   77 1206]]\n",
      "              precision    recall  f1-score   support\n",
      "\n",
      "      center     0.7185    0.6184    0.6647      1989\n",
      "    leanleft     0.6691    0.3220    0.4347      2022\n",
      "   leanright     0.3904    0.8210    0.5292      2033\n",
      "        left     0.7021    0.4947    0.5804      1977\n",
      "       right     0.7322    0.6094    0.6652      1979\n",
      "\n",
      "   micro avg     0.5734    0.5734    0.5734     10000\n",
      "   macro avg     0.6425    0.5731    0.5748     10000\n",
      "weighted avg     0.6413    0.5734    0.5741     10000\n",
      "\n"
     ]
    }
   ],
   "source": [
    "y_pred11 = lr_tfidf_txt_df[\"V2\"]\n",
    "y_actual11 = lr_tfidf_txt_df[\"V1\"]\n",
    "print(metrics.confusion_matrix(y_actual11,y_pred11))\n",
    "print(metrics.classification_report(y_actual11,y_pred11,digits=4))"
   ]
  },
  {
   "cell_type": "markdown",
   "metadata": {},
   "source": [
    "# CNNs"
   ]
  },
  {
   "cell_type": "code",
   "execution_count": 9,
   "metadata": {},
   "outputs": [],
   "source": [
    "# Headlines \n",
    "cnn_hl_df = pd.read_csv('./results/4_cnn_hl.csv')\n",
    "# RSS Descriptions \n",
    "cnn_dsc_df = pd.read_csv('./results/4_cnn_desc.csv')\n",
    "# Full Text \n",
    "cnn_txt_df = pd.read_csv('./results/4_cnn_txt.csv')"
   ]
  },
  {
   "cell_type": "code",
   "execution_count": 13,
   "metadata": {},
   "outputs": [
    {
     "name": "stdout",
     "output_type": "stream",
     "text": [
      "[[1079  253  200  208  249]\n",
      " [ 388  681  383  332  238]\n",
      " [ 387  370  816  215  245]\n",
      " [ 217  271  207 1032  250]\n",
      " [ 277  217  207  208 1070]]\n",
      "              precision    recall  f1-score   support\n",
      "\n",
      "      center     0.4595    0.5425    0.4976      1989\n",
      "    leanleft     0.3800    0.3368    0.3571      2022\n",
      "   leanright     0.4501    0.4014    0.4243      2033\n",
      "        left     0.5173    0.5220    0.5196      1977\n",
      "       right     0.5214    0.5407    0.5309      1979\n",
      "\n",
      "   micro avg     0.4678    0.4678    0.4678     10000\n",
      "   macro avg     0.4657    0.4687    0.4659     10000\n",
      "weighted avg     0.4652    0.4678    0.4652     10000\n",
      "\n"
     ]
    }
   ],
   "source": [
    "y_pred12 = cnn_hl_df[\"predicted_class\"]\n",
    "y_actual12 = cnn_hl_df[\"actual_class\"]\n",
    "print(metrics.confusion_matrix(y_actual12,y_pred12))\n",
    "print(metrics.classification_report(y_actual12,y_pred12,digits=4))"
   ]
  },
  {
   "cell_type": "code",
   "execution_count": 14,
   "metadata": {},
   "outputs": [
    {
     "name": "stdout",
     "output_type": "stream",
     "text": [
      "[[1032  238  268  197  254]\n",
      " [ 253  625  401  408  335]\n",
      " [ 268  268  990  248  259]\n",
      " [ 165  244  181 1123  264]\n",
      " [ 177  134  196  190 1282]]\n",
      "              precision    recall  f1-score   support\n",
      "\n",
      "      center     0.5446    0.5189    0.5314      1989\n",
      "    leanleft     0.4142    0.3091    0.3540      2022\n",
      "   leanright     0.4862    0.4870    0.4866      2033\n",
      "        left     0.5185    0.5680    0.5421      1977\n",
      "       right     0.5355    0.6478    0.5863      1979\n",
      "\n",
      "   micro avg     0.5052    0.5052    0.5052     10000\n",
      "   macro avg     0.4998    0.5062    0.5001     10000\n",
      "weighted avg     0.4994    0.5052    0.4994     10000\n",
      "\n"
     ]
    }
   ],
   "source": [
    "y_pred13 = cnn_dsc_df[\"predicted_class\"]\n",
    "y_actual13 = cnn_dsc_df[\"actual_class\"]\n",
    "print(metrics.confusion_matrix(y_actual13,y_pred13))\n",
    "print(metrics.classification_report(y_actual13,y_pred13,digits=4))"
   ]
  },
  {
   "cell_type": "code",
   "execution_count": 15,
   "metadata": {},
   "outputs": [
    {
     "name": "stdout",
     "output_type": "stream",
     "text": [
      "[[1619  135  120   85   30]\n",
      " [ 185 1185  300  266   86]\n",
      " [  85  202 1559   92   95]\n",
      " [  32  142   87 1608  108]\n",
      " [  41   79  159  166 1534]]\n",
      "              precision    recall  f1-score   support\n",
      "\n",
      "      center     0.8252    0.8140    0.8195      1989\n",
      "    leanleft     0.6799    0.5861    0.6295      2022\n",
      "   leanright     0.7007    0.7668    0.7323      2033\n",
      "        left     0.7253    0.8134    0.7668      1977\n",
      "       right     0.8278    0.7751    0.8006      1979\n",
      "\n",
      "   micro avg     0.7505    0.7505    0.7505     10000\n",
      "   macro avg     0.7518    0.7511    0.7497     10000\n",
      "weighted avg     0.7513    0.7505    0.7492     10000\n",
      "\n"
     ]
    }
   ],
   "source": [
    "y_pred14 = cnn_txt_df[\"predicted_class\"]\n",
    "y_actual14 = cnn_txt_df[\"actual_class\"]\n",
    "print(metrics.confusion_matrix(y_actual14,y_pred14))\n",
    "print(metrics.classification_report(y_actual14,y_pred14,digits=4))"
   ]
  },
  {
   "cell_type": "markdown",
   "metadata": {},
   "source": [
    "# RNN with CNN"
   ]
  },
  {
   "cell_type": "code",
   "execution_count": 3,
   "metadata": {},
   "outputs": [],
   "source": [
    "# Headlines \n",
    "rnncnn_hl_df = pd.read_csv('./results/5_rnncnn_hl.csv')\n",
    "# RSS Descriptions \n",
    "rnncnn_dsc_df = pd.read_csv('./results/5_rnncnn_dsc.csv')\n",
    "# Full Text \n",
    "rnncnn_txt_df = pd.read_csv('./results/5_rnncnn_txt.csv')"
   ]
  },
  {
   "cell_type": "code",
   "execution_count": 4,
   "metadata": {},
   "outputs": [
    {
     "name": "stdout",
     "output_type": "stream",
     "text": [
      "[[1088  205  208  180  308]\n",
      " [ 450  557  384  304  327]\n",
      " [ 449  307  772  172  333]\n",
      " [ 297  236  221  903  320]\n",
      " [ 308  179  222  164 1106]]\n",
      "              precision    recall  f1-score   support\n",
      "\n",
      "      center     0.4198    0.5470    0.4750      1989\n",
      "    leanleft     0.3753    0.2755    0.3177      2022\n",
      "   leanright     0.4272    0.3797    0.4021      2033\n",
      "        left     0.5241    0.4568    0.4881      1977\n",
      "       right     0.4620    0.5589    0.5058      1979\n",
      "\n",
      "   micro avg     0.4426    0.4426    0.4426     10000\n",
      "   macro avg     0.4417    0.4436    0.4378     10000\n",
      "weighted avg     0.4413    0.4426    0.4371     10000\n",
      "\n"
     ]
    }
   ],
   "source": [
    "y_pred15 = rnncnn_hl_df[\"predicted_class\"]\n",
    "y_actual15 = rnncnn_hl_df[\"actual_class\"]\n",
    "print(metrics.confusion_matrix(y_actual15,y_pred15))\n",
    "print(metrics.classification_report(y_actual15,y_pred15,digits=4))"
   ]
  },
  {
   "cell_type": "code",
   "execution_count": 5,
   "metadata": {},
   "outputs": [
    {
     "name": "stdout",
     "output_type": "stream",
     "text": [
      "[[1201  196  172  220  200]\n",
      " [ 295  604  330  524  269]\n",
      " [ 302  295  863  328  245]\n",
      " [ 201  181  108 1262  225]\n",
      " [ 158  132  156  262 1271]]\n",
      "              precision    recall  f1-score   support\n",
      "\n",
      "      center     0.5568    0.6038    0.5794      1989\n",
      "    leanleft     0.4290    0.2987    0.3522      2022\n",
      "   leanright     0.5298    0.4245    0.4713      2033\n",
      "        left     0.4861    0.6383    0.5519      1977\n",
      "       right     0.5751    0.6422    0.6068      1979\n",
      "\n",
      "   micro avg     0.5201    0.5201    0.5201     10000\n",
      "   macro avg     0.5154    0.5215    0.5123     10000\n",
      "weighted avg     0.5151    0.5201    0.5115     10000\n",
      "\n"
     ]
    }
   ],
   "source": [
    "y_pred16 = rnncnn_dsc_df[\"predicted_class\"]\n",
    "y_actual16 = rnncnn_dsc_df[\"actual_class\"]\n",
    "print(metrics.confusion_matrix(y_actual16,y_pred16))\n",
    "print(metrics.classification_report(y_actual16,y_pred16,digits=4))"
   ]
  },
  {
   "cell_type": "code",
   "execution_count": 6,
   "metadata": {},
   "outputs": [
    {
     "name": "stdout",
     "output_type": "stream",
     "text": [
      "[[1788   97   35   51   18]\n",
      " [ 359 1210  161  215   77]\n",
      " [ 188  240 1429   67  109]\n",
      " [  93  158   71 1549  106]\n",
      " [  74   78  105  100 1622]]\n",
      "              precision    recall  f1-score   support\n",
      "\n",
      "      center     0.7146    0.8989    0.7963      1989\n",
      "    leanleft     0.6786    0.5984    0.6360      2022\n",
      "   leanright     0.7934    0.7029    0.7454      2033\n",
      "        left     0.7815    0.7835    0.7825      1977\n",
      "       right     0.8395    0.8196    0.8295      1979\n",
      "\n",
      "   micro avg     0.7598    0.7598    0.7598     10000\n",
      "   macro avg     0.7616    0.7607    0.7579     10000\n",
      "weighted avg     0.7613    0.7598    0.7574     10000\n",
      "\n"
     ]
    }
   ],
   "source": [
    "y_pred17 = rnncnn_txt_df[\"predicted_class\"]\n",
    "y_actual17 = rnncnn_txt_df[\"actual_class\"]\n",
    "print(metrics.confusion_matrix(y_actual17,y_pred17))\n",
    "print(metrics.classification_report(y_actual17,y_pred17,digits=4))"
   ]
  },
  {
   "cell_type": "markdown",
   "metadata": {},
   "source": [
    "# Visualisations"
   ]
  },
  {
   "cell_type": "code",
   "execution_count": 7,
   "metadata": {},
   "outputs": [
    {
     "data": {
      "image/png": "[encoded data removed]",
      "text/plain": [
       "<Figure size 720x360 with 1 Axes>"
      ]
     },
     "metadata": {
      "needs_background": "light"
     },
     "output_type": "display_data"
    }
   ],
   "source": [
    "# HEADLINE: plot\n",
    "\n",
    "# using matplotlib to change the y-axis \n",
    "fig = plt.figure(figsize=(10,5))\n",
    "ax = fig.add_subplot(111)\n",
    "ax.set_ylabel('F1 score')\n",
    "\n",
    "# using seaborn to create the plot \n",
    "graph1 = sns.barplot(\n",
    "    x= ['Chance', 'Naive Bayes', 'Logit', 'TF-IDF', 'CNN', 'RNN & CNN'],\n",
    "    y= [0.1986, 0.4120, 0.4265, 0.4262, 0.4652, 0.4371]).set_title(\"F1 Score across models for headlines\")\n",
    "\n",
    "fig.savefig(\"comparison_headline.png\", dpi=200)"
   ]
  },
  {
   "cell_type": "code",
   "execution_count": 8,
   "metadata": {},
   "outputs": [
    {
     "data": {
      "image/png": "[encoded data removed]",
      "text/plain": [
       "<Figure size 720x360 with 1 Axes>"
      ]
     },
     "metadata": {
      "needs_background": "light"
     },
     "output_type": "display_data"
    }
   ],
   "source": [
    "# RSS DESCRIPTIONS: plot \n",
    "\n",
    "# using matplotlib to change the y-axis \n",
    "fig = plt.figure(figsize=(10,5))\n",
    "ax = fig.add_subplot(111)\n",
    "ax.set_ylabel('F1 score')\n",
    "\n",
    "# using seaborn to create the plot \n",
    "graph2 = sns.barplot(\n",
    "    x= ['Chance', 'Naive Bayes', 'Logit', 'TF-IDF', 'CNN', 'RNN & CNN'],\n",
    "    y= [0.1986, 0.4204, 0.4459, 0.4485, 0.4994, 0.5115]).set_title(\"F1 Score across models for RSS descriptions\")\n",
    "\n",
    "fig.savefig(\"comparison_descriptions.png\", dpi=200)"
   ]
  },
  {
   "cell_type": "code",
   "execution_count": 9,
   "metadata": {},
   "outputs": [
    {
     "data": {
      "image/png": "[encoded data removed]",
      "text/plain": [
       "<Figure size 720x360 with 1 Axes>"
      ]
     },
     "metadata": {
      "needs_background": "light"
     },
     "output_type": "display_data"
    }
   ],
   "source": [
    "# FULL TEXT: plot \n",
    "\n",
    "# using matplotlib to change the y-axis \n",
    "fig = plt.figure(figsize=(10,5))\n",
    "ax = fig.add_subplot(111)\n",
    "ax.set_ylabel('F1 score')\n",
    "\n",
    "# using seaborn to create the plot \n",
    "graph3 = sns.barplot(\n",
    "    x= ['Chance', 'Naive Bayes', 'Logit', 'TF-IDF', 'CNN', 'RNN & CNN'],\n",
    "    y= [0.1986, 0.5050, 0.6026, 0.5741, 0.7492, 0.7574]).set_title(\"F1 Score across models for full text\")\n",
    "\n",
    "fig.savefig(\"comparison_fulltext.png\", dpi=200)"
   ]
  },
  {
   "cell_type": "code",
   "execution_count": null,
   "metadata": {},
   "outputs": [],
   "source": []
  }
 ],
 "metadata": {
  "kernelspec": {
   "display_name": "Python 3",
   "language": "python",
   "name": "python3"
  },
  "language_info": {
   "codemirror_mode": {
    "name": "ipython",
    "version": 3
   },
   "file_extension": ".py",
   "mimetype": "text/x-python",
   "name": "python",
   "nbconvert_exporter": "python",
   "pygments_lexer": "ipython3",
   "version": "3.7.3"
  }
 },
 "nbformat": 4,
 "nbformat_minor": 2
}
